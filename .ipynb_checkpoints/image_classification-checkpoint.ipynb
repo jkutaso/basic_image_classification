{
 "cells": [
  {
   "cell_type": "code",
   "execution_count": 1,
   "id": "e4f59b2f-6926-4e4e-a3cf-1c01bebe2d42",
   "metadata": {},
   "outputs": [],
   "source": [
    "import torch\n",
    "import pickle\n",
    "import tarfile\n",
    "from tensorflow.keras import layers, models, losses\n",
    "import matplotlib.pyplot as plt\n",
    "import numpy as np\n",
    "from scipy.special import softmax"
   ]
  },
  {
   "cell_type": "code",
   "execution_count": 2,
   "id": "077585dc-8f17-46ed-94e4-feeb7a078a35",
   "metadata": {},
   "outputs": [],
   "source": [
    "def unpickle(file, test_or_data, batch_number):\n",
    "    with tarfile.open(file, 'r:gz') as tar:\n",
    "        tar.extractall()\n",
    "    \n",
    "    if test_or_data == 'data':\n",
    "        extracted_file = f'cifar-10-batches-py/{test_or_data}_batch_{batch_number}' \n",
    "    if test_or_data == 'test':\n",
    "        extracted_file = f'cifar-10-batches-py/{test_or_data}_batch'\n",
    "    \n",
    "    with open(extracted_file, 'rb') as fo:\n",
    "        data_dict = pickle.load(fo, encoding='bytes')\n",
    "    \n",
    "    return data_dict\n",
    "\n",
    "def convert_flat_to_matrix(image_flat):\n",
    "    image = np.zeros((32, 32, 3), dtype=np.uint8)\n",
    "    image[:, :, 0] = image_flat[0:1024].reshape(32, 32)  # Red channel\n",
    "    image[:, :, 1] = image_flat[1024:2048].reshape(32, 32)  # Green channel\n",
    "    image[:, :, 2] = image_flat[2048:3072].reshape(32, 32)  # Blue channel\n",
    "    return image\n",
    "\n",
    "def prepare_training_data():\n",
    "    train_data = []\n",
    "    train_labels = []\n",
    "    for i in range(1, 6):\n",
    "        data_batch = unpickle('cifar-10-python.tar.gz', 'data', i)\n",
    "        for image_flat, label in zip(data_batch[b'data'], data_batch[b'labels']):\n",
    "            image = convert_flat_to_matrix(image_flat)\n",
    "            train_data.append(image / 255.0)\n",
    "            train_labels.append(label)\n",
    "    return np.array(train_data), np.array(train_labels)\n",
    "\n",
    "def prepare_test_data():\n",
    "    test_data = []\n",
    "    test_labels = []\n",
    "    data_batch = unpickle('cifar-10-python.tar.gz', 'test', 0)\n",
    "    for image_flat, label in zip(data_batch[b'data'], data_batch[b'labels']):\n",
    "        image = convert_flat_to_matrix(image_flat)\n",
    "        test_data.append(image / 255.0)\n",
    "        test_labels.append(label)\n",
    "    return np.array(test_data), np.array(test_labels)\n",
    "\n",
    "def initialize_cnn():\n",
    "    input_shape = (32, 32, 3)\n",
    "\n",
    "    # Create a Sequential model\n",
    "    model = models.Sequential()\n",
    "    \n",
    "    # Add the input layer with the defined input shape\n",
    "    model.add(layers.Input(shape=input_shape))\n",
    "    \n",
    "    # Add convolutional layers\n",
    "    model.add(layers.Conv2D(32, (3, 3), activation='relu'))\n",
    "    model.add(layers.MaxPooling2D((2, 2)))\n",
    "    model.add(layers.Conv2D(64, (3, 3), activation='relu'))\n",
    "    model.add(layers.MaxPooling2D((2, 2)))\n",
    "    model.add(layers.Conv2D(64, (3, 3), activation='relu'))\n",
    "    \n",
    "    # Flatten and add dense layers\n",
    "    model.add(layers.Flatten())\n",
    "    model.add(layers.Dense(64, activation='relu'))\n",
    "    model.add(layers.Dense(10))\n",
    "    return model"
   ]
  },
  {
   "cell_type": "code",
   "execution_count": 3,
   "id": "9b62b6fd-a8d9-4fdf-bd42-2a22071a3261",
   "metadata": {},
   "outputs": [],
   "source": [
    "x_train, y_train = prepare_training_data()\n",
    "x_test, y_test = prepare_test_data()"
   ]
  },
  {
   "cell_type": "code",
   "execution_count": 4,
   "id": "9f9af6a8-2379-441d-a137-0ccf7d910aef",
   "metadata": {},
   "outputs": [
    {
     "data": {
      "text/plain": [
       "(50000,)"
      ]
     },
     "execution_count": 4,
     "metadata": {},
     "output_type": "execute_result"
    }
   ],
   "source": [
    "np.shape(y_train)"
   ]
  },
  {
   "cell_type": "code",
   "execution_count": 5,
   "id": "3c6a6c41-a6ac-471d-af81-215061bdc39e",
   "metadata": {},
   "outputs": [],
   "source": [
    "model = initialize_cnn()"
   ]
  },
  {
   "cell_type": "code",
   "execution_count": 6,
   "id": "de9ed168-6f66-4f06-b04d-4dc94019452a",
   "metadata": {},
   "outputs": [
    {
     "name": "stdout",
     "output_type": "stream",
     "text": [
      "Epoch 1/10\n",
      "\u001b[1m1563/1563\u001b[0m \u001b[32m━━━━━━━━━━━━━━━━━━━━\u001b[0m\u001b[37m\u001b[0m \u001b[1m15s\u001b[0m 7ms/step - accuracy: 0.3456 - loss: 1.7704 - val_accuracy: 0.5450 - val_loss: 1.2678\n",
      "Epoch 2/10\n",
      "\u001b[1m1563/1563\u001b[0m \u001b[32m━━━━━━━━━━━━━━━━━━━━\u001b[0m\u001b[37m\u001b[0m \u001b[1m10s\u001b[0m 7ms/step - accuracy: 0.5716 - loss: 1.2116 - val_accuracy: 0.6274 - val_loss: 1.0586\n",
      "Epoch 3/10\n",
      "\u001b[1m1563/1563\u001b[0m \u001b[32m━━━━━━━━━━━━━━━━━━━━\u001b[0m\u001b[37m\u001b[0m \u001b[1m10s\u001b[0m 6ms/step - accuracy: 0.6397 - loss: 1.0181 - val_accuracy: 0.6435 - val_loss: 1.0085\n",
      "Epoch 4/10\n",
      "\u001b[1m1563/1563\u001b[0m \u001b[32m━━━━━━━━━━━━━━━━━━━━\u001b[0m\u001b[37m\u001b[0m \u001b[1m10s\u001b[0m 6ms/step - accuracy: 0.6797 - loss: 0.9171 - val_accuracy: 0.6618 - val_loss: 0.9675\n",
      "Epoch 5/10\n",
      "\u001b[1m1563/1563\u001b[0m \u001b[32m━━━━━━━━━━━━━━━━━━━━\u001b[0m\u001b[37m\u001b[0m \u001b[1m10s\u001b[0m 7ms/step - accuracy: 0.7002 - loss: 0.8581 - val_accuracy: 0.6987 - val_loss: 0.8869\n",
      "Epoch 6/10\n",
      "\u001b[1m1563/1563\u001b[0m \u001b[32m━━━━━━━━━━━━━━━━━━━━\u001b[0m\u001b[37m\u001b[0m \u001b[1m10s\u001b[0m 6ms/step - accuracy: 0.7275 - loss: 0.7786 - val_accuracy: 0.6879 - val_loss: 0.9113\n",
      "Epoch 7/10\n",
      "\u001b[1m1563/1563\u001b[0m \u001b[32m━━━━━━━━━━━━━━━━━━━━\u001b[0m\u001b[37m\u001b[0m \u001b[1m10s\u001b[0m 6ms/step - accuracy: 0.7504 - loss: 0.7195 - val_accuracy: 0.7133 - val_loss: 0.8339\n",
      "Epoch 8/10\n",
      "\u001b[1m1563/1563\u001b[0m \u001b[32m━━━━━━━━━━━━━━━━━━━━\u001b[0m\u001b[37m\u001b[0m \u001b[1m10s\u001b[0m 6ms/step - accuracy: 0.7654 - loss: 0.6719 - val_accuracy: 0.7082 - val_loss: 0.8584\n",
      "Epoch 9/10\n",
      "\u001b[1m1563/1563\u001b[0m \u001b[32m━━━━━━━━━━━━━━━━━━━━\u001b[0m\u001b[37m\u001b[0m \u001b[1m11s\u001b[0m 7ms/step - accuracy: 0.7784 - loss: 0.6300 - val_accuracy: 0.7136 - val_loss: 0.8605\n",
      "Epoch 10/10\n",
      "\u001b[1m1563/1563\u001b[0m \u001b[32m━━━━━━━━━━━━━━━━━━━━\u001b[0m\u001b[37m\u001b[0m \u001b[1m11s\u001b[0m 7ms/step - accuracy: 0.7899 - loss: 0.5944 - val_accuracy: 0.7188 - val_loss: 0.8483\n",
      "\u001b[1m313/313\u001b[0m \u001b[32m━━━━━━━━━━━━━━━━━━━━\u001b[0m\u001b[37m\u001b[0m \u001b[1m1s\u001b[0m 2ms/step - accuracy: 0.7238 - loss: 0.8263\n",
      "Validation accuracy: 0.7188\n"
     ]
    }
   ],
   "source": [
    "model.compile(optimizer='adam',\n",
    "              loss=losses.SparseCategoricalCrossentropy(from_logits=True),\n",
    "              metrics=['accuracy'])\n",
    "history = model.fit(x_train, y_train, epochs=10, batch_size = 32, validation_data = (x_test, y_test))\n",
    "test_loss, test_acc = model.evaluate(x_test, y_test)\n",
    "print(f'Validation accuracy: {test_acc:.4f}')"
   ]
  },
  {
   "cell_type": "code",
   "execution_count": 7,
   "id": "a0579bb5-72d9-4947-baf5-784e55e9149f",
   "metadata": {},
   "outputs": [
    {
     "data": {
      "text/plain": [
       "0.7188000082969666"
      ]
     },
     "execution_count": 7,
     "metadata": {},
     "output_type": "execute_result"
    }
   ],
   "source": [
    "test_acc"
   ]
  },
  {
   "cell_type": "code",
   "execution_count": 9,
   "id": "b331d474-f5a2-46a4-ad49-2a10f6be573d",
   "metadata": {},
   "outputs": [
    {
     "data": {
      "image/png": "[encoded data removed]",
      "text/plain": [
       "<Figure size 640x480 with 1 Axes>"
      ]
     },
     "metadata": {},
     "output_type": "display_data"
    },
    {
     "data": {
      "text/plain": [
       "3"
      ]
     },
     "execution_count": 9,
     "metadata": {},
     "output_type": "execute_result"
    }
   ],
   "source": [
    "# Example to make sure I understand how these images work\n",
    "data = unpickle('cifar-10-python.tar.gz', 'test', 1)\n",
    "image_flat = data[b'data'][0]\n",
    "image = convert_flat_to_matrix(image_flat)\n",
    "\n",
    "# Display the image\n",
    "plt.imshow(image)\n",
    "plt.title(f'Image {0}')\n",
    "plt.show()\n",
    "\n",
    "data[b'labels'][0]"
   ]
  },
  {
   "cell_type": "code",
   "execution_count": 10,
   "id": "fb33d2e1-7296-4511-9888-67c5f97046b4",
   "metadata": {},
   "outputs": [
    {
     "name": "stdout",
     "output_type": "stream",
     "text": [
      "\u001b[1m313/313\u001b[0m \u001b[32m━━━━━━━━━━━━━━━━━━━━\u001b[0m\u001b[37m\u001b[0m \u001b[1m1s\u001b[0m 4ms/step\n",
      "Shape of predictions: (10000, 10)\n",
      "First prediction: [-2.70569   -5.9596057 -2.5213547  4.5531926 -4.5988417  2.0746167\n",
      " -2.1826384 -3.1125598 -1.4911066 -2.9881215]\n"
     ]
    }
   ],
   "source": [
    "predictions = model.predict(x_test)\n",
    "\n",
    "# Example output shapes\n",
    "print('Shape of predictions:', predictions.shape)  # Shape will depend on your model and task\n",
    "\n",
    "# Example of accessing predictions for the first sample\n",
    "first_prediction = predictions[0]\n",
    "print('First prediction:', first_prediction)"
   ]
  },
  {
   "cell_type": "code",
   "execution_count": 11,
   "id": "a1d8066e-9f76-4fac-b51f-e51dbdf67ea4",
   "metadata": {},
   "outputs": [
    {
     "data": {
      "text/plain": [
       "array([6.4571266e-04, 2.4939152e-05, 7.7641703e-04, 9.1734338e-01,\n",
       "       9.7241958e-05, 7.6930769e-02, 1.0894256e-03, 4.2987082e-04,\n",
       "       2.1753353e-03, 4.8683389e-04], dtype=float32)"
      ]
     },
     "execution_count": 11,
     "metadata": {},
     "output_type": "execute_result"
    }
   ],
   "source": [
    "softmax(first_prediction)"
   ]
  }
 ],
 "metadata": {
  "kernelspec": {
   "display_name": "Python 3 (ipykernel)",
   "language": "python",
   "name": "python3"
  },
  "language_info": {
   "codemirror_mode": {
    "name": "ipython",
    "version": 3
   },
   "file_extension": ".py",
   "mimetype": "text/x-python",
   "name": "python",
   "nbconvert_exporter": "python",
   "pygments_lexer": "ipython3",
   "version": "3.12.1"
  }
 },
 "nbformat": 4,
 "nbformat_minor": 5
}
